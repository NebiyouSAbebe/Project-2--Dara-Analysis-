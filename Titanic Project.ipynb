{
 "cells": [
  {
   "cell_type": "markdown",
   "metadata": {},
   "source": [
    "### Introduction\n",
    "Titanic created quite a stir when it departed for its maiden voyage from Southampton, England, on April 10,1912. After stops in Cherbourg, France, and Queenstown, Ireland, the ship set sail for New york with 891 passengers and crew the expression then used in the shipping inustry, usually in connection with a sinking-on board. Using the provide data set and knowledge gained from Udacity Data Analysis Nanodegree, I would like to factors made more to survive interms of : \n",
    "### 1) Genders: Which genders survived with a higher count, Male or Female?\n",
    "### 2) Pclass: Which Pclass survived the most ?, and \n",
    "### 3) Ages: Which ages group survived the most? \n",
    "Now, am currently using the Jupyter notebook, python and the number of libraries (pandas, numpy, matplotlib and seaborn) gained knowldege from Udacity Data Analysis Nanodegree program."
   ]
  },
  {
   "cell_type": "markdown",
   "metadata": {},
   "source": [
    "### Data Processing\n",
    "### Preapre Python"
   ]
  },
  {
   "cell_type": "code",
   "execution_count": 1,
   "metadata": {
    "collapsed": false
   },
   "outputs": [
    {
     "name": "stdout",
     "output_type": "stream",
     "text": [
      "Populating the interactive namespace from numpy and matplotlib\n"
     ]
    }
   ],
   "source": [
    "%pylab inline\n",
    "import matplotlib.pyplot as plt\n",
    "import numpy as np\n",
    "import pandas as pd\n",
    "df = pd.read_csv('C:\\\\Users\\\\nebiyous\\\\Desktop\\\\Titanic\\\\titanic-data.csv')\n",
    "df = pd.read_csv(r'C:\\Users\\nebiyous\\Desktop\\Titanic\\titanic-data.csv')\n",
    "\n",
    "df = pd.read_csv('C:/Users/nebiyous/Desktop/Titanic/titanic-data.csv')\n",
    "\n"
   ]
  },
  {
   "cell_type": "markdown",
   "metadata": {},
   "source": [
    "### The Data"
   ]
  },
  {
   "cell_type": "code",
   "execution_count": 2,
   "metadata": {
    "collapsed": false
   },
   "outputs": [
    {
     "name": "stdout",
     "output_type": "stream",
     "text": [
      "<class 'pandas.core.frame.DataFrame'>\n",
      "RangeIndex: 891 entries, 0 to 890\n",
      "Data columns (total 12 columns):\n",
      "PassengerId    891 non-null int64\n",
      "Survived       891 non-null int64\n",
      "Pclass         891 non-null int64\n",
      "Name           891 non-null object\n",
      "Sex            891 non-null object\n",
      "Age            714 non-null float64\n",
      "SibSp          891 non-null int64\n",
      "Parch          891 non-null int64\n",
      "Ticket         891 non-null object\n",
      "Fare           891 non-null float64\n",
      "Cabin          204 non-null object\n",
      "Embarked       889 non-null object\n",
      "dtypes: float64(2), int64(5), object(5)\n",
      "memory usage: 83.6+ KB\n"
     ]
    }
   ],
   "source": [
    "df.info()"
   ]
  },
  {
   "cell_type": "markdown",
   "metadata": {},
   "source": [
    "### Exclude from the data analysis.\n",
    "I am exclude Name,SibSp,Parch, Ticket, Fare, Cabin and Embarked. The reason I excluded these lists are:(f.ex.)the Name are specfic for individuals person's of first and last name. "
   ]
  },
  {
   "cell_type": "code",
   "execution_count": 3,
   "metadata": {
    "collapsed": false
   },
   "outputs": [],
   "source": [
    "del df['Name']\n",
    "del df['SibSp']\n",
    "del df['Parch']\n",
    "del df['Ticket']\n",
    "del df['Fare']\n",
    "del df['Cabin']\n",
    "del df['Embarked']"
   ]
  },
  {
   "cell_type": "markdown",
   "metadata": {},
   "source": [
    "### Sample Data into 2 samples\n",
    "To decide should if I ignored the rows with the missing age or fill the missing values with the mean, first to split the sample data into two samples with filled age and without age. \n",
    "### Does the sample have more filled with age or without age? "
   ]
  },
  {
   "cell_type": "code",
   "execution_count": 4,
   "metadata": {
    "collapsed": false
   },
   "outputs": [],
   "source": [
    "with_age = df[df['Age'].notnull()]\n",
    "without_age = df[df['Age'].isnull()]"
   ]
  },
  {
   "cell_type": "markdown",
   "metadata": {},
   "source": [
    "### t test for independent variables\n",
    "To be able to ignore the data without the age, I should be sure that passengers in these two samples are likely to have the similar survival rate. As these are  two independent 2 samples, t test for independent variables might help me.\n",
    "I'm using the existing in scipy.stats function to perform t test for independent variables. "
   ]
  },
  {
   "cell_type": "code",
   "execution_count": 5,
   "metadata": {
    "collapsed": false
   },
   "outputs": [
    {
     "data": {
      "text/plain": [
       "Ttest_indResult(statistic=2.7606993230995345, pvalue=0.0058865348400755626)"
      ]
     },
     "execution_count": 5,
     "metadata": {},
     "output_type": "execute_result"
    }
   ],
   "source": [
    "from scipy.stats import ttest_ind\n",
    "ttest_ind(with_age['Survived'], without_age['Survived'])"
   ]
  },
  {
   "cell_type": "markdown",
   "metadata": {},
   "source": [
    "The result of the ttest shows the significant difference of considered samples. Consequently, I'm going to substitute the missing values with the mean age."
   ]
  },
  {
   "cell_type": "code",
   "execution_count": 6,
   "metadata": {
    "collapsed": false
   },
   "outputs": [
    {
     "name": "stdout",
     "output_type": "stream",
     "text": [
      "<class 'pandas.core.frame.DataFrame'>\n",
      "RangeIndex: 891 entries, 0 to 890\n",
      "Data columns (total 5 columns):\n",
      "PassengerId    891 non-null int64\n",
      "Survived       891 non-null int64\n",
      "Pclass         891 non-null int64\n",
      "Sex            891 non-null object\n",
      "Age            891 non-null float64\n",
      "dtypes: float64(1), int64(3), object(1)\n",
      "memory usage: 34.9+ KB\n"
     ]
    }
   ],
   "source": [
    "df['Age'] = df['Age'].fillna(df['Age'].mean())\n",
    "df.info()"
   ]
  },
  {
   "cell_type": "markdown",
   "metadata": {},
   "source": [
    "Now we can see that all columns have identical length. Let's see some descriptive statistics from built in the pandas library function describe."
   ]
  },
  {
   "cell_type": "code",
   "execution_count": 7,
   "metadata": {
    "collapsed": false
   },
   "outputs": [
    {
     "data": {
      "text/html": [
       "<div>\n",
       "<table border=\"1\" class=\"dataframe\">\n",
       "  <thead>\n",
       "    <tr style=\"text-align: right;\">\n",
       "      <th></th>\n",
       "      <th>PassengerId</th>\n",
       "      <th>Survived</th>\n",
       "      <th>Pclass</th>\n",
       "      <th>Sex</th>\n",
       "      <th>Age</th>\n",
       "    </tr>\n",
       "  </thead>\n",
       "  <tbody>\n",
       "    <tr>\n",
       "      <th>count</th>\n",
       "      <td>891.000000</td>\n",
       "      <td>891.000000</td>\n",
       "      <td>891.000000</td>\n",
       "      <td>891</td>\n",
       "      <td>891.000000</td>\n",
       "    </tr>\n",
       "    <tr>\n",
       "      <th>unique</th>\n",
       "      <td>NaN</td>\n",
       "      <td>NaN</td>\n",
       "      <td>NaN</td>\n",
       "      <td>2</td>\n",
       "      <td>NaN</td>\n",
       "    </tr>\n",
       "    <tr>\n",
       "      <th>top</th>\n",
       "      <td>NaN</td>\n",
       "      <td>NaN</td>\n",
       "      <td>NaN</td>\n",
       "      <td>male</td>\n",
       "      <td>NaN</td>\n",
       "    </tr>\n",
       "    <tr>\n",
       "      <th>freq</th>\n",
       "      <td>NaN</td>\n",
       "      <td>NaN</td>\n",
       "      <td>NaN</td>\n",
       "      <td>577</td>\n",
       "      <td>NaN</td>\n",
       "    </tr>\n",
       "    <tr>\n",
       "      <th>mean</th>\n",
       "      <td>446.000000</td>\n",
       "      <td>0.383838</td>\n",
       "      <td>2.308642</td>\n",
       "      <td>NaN</td>\n",
       "      <td>29.699118</td>\n",
       "    </tr>\n",
       "    <tr>\n",
       "      <th>std</th>\n",
       "      <td>257.353842</td>\n",
       "      <td>0.486592</td>\n",
       "      <td>0.836071</td>\n",
       "      <td>NaN</td>\n",
       "      <td>13.002015</td>\n",
       "    </tr>\n",
       "    <tr>\n",
       "      <th>min</th>\n",
       "      <td>1.000000</td>\n",
       "      <td>0.000000</td>\n",
       "      <td>1.000000</td>\n",
       "      <td>NaN</td>\n",
       "      <td>0.420000</td>\n",
       "    </tr>\n",
       "    <tr>\n",
       "      <th>25%</th>\n",
       "      <td>223.500000</td>\n",
       "      <td>0.000000</td>\n",
       "      <td>2.000000</td>\n",
       "      <td>NaN</td>\n",
       "      <td>22.000000</td>\n",
       "    </tr>\n",
       "    <tr>\n",
       "      <th>50%</th>\n",
       "      <td>446.000000</td>\n",
       "      <td>0.000000</td>\n",
       "      <td>3.000000</td>\n",
       "      <td>NaN</td>\n",
       "      <td>29.699118</td>\n",
       "    </tr>\n",
       "    <tr>\n",
       "      <th>75%</th>\n",
       "      <td>668.500000</td>\n",
       "      <td>1.000000</td>\n",
       "      <td>3.000000</td>\n",
       "      <td>NaN</td>\n",
       "      <td>35.000000</td>\n",
       "    </tr>\n",
       "    <tr>\n",
       "      <th>max</th>\n",
       "      <td>891.000000</td>\n",
       "      <td>1.000000</td>\n",
       "      <td>3.000000</td>\n",
       "      <td>NaN</td>\n",
       "      <td>80.000000</td>\n",
       "    </tr>\n",
       "  </tbody>\n",
       "</table>\n",
       "</div>"
      ],
      "text/plain": [
       "        PassengerId    Survived      Pclass   Sex         Age\n",
       "count    891.000000  891.000000  891.000000   891  891.000000\n",
       "unique          NaN         NaN         NaN     2         NaN\n",
       "top             NaN         NaN         NaN  male         NaN\n",
       "freq            NaN         NaN         NaN   577         NaN\n",
       "mean     446.000000    0.383838    2.308642   NaN   29.699118\n",
       "std      257.353842    0.486592    0.836071   NaN   13.002015\n",
       "min        1.000000    0.000000    1.000000   NaN    0.420000\n",
       "25%      223.500000    0.000000    2.000000   NaN   22.000000\n",
       "50%      446.000000    0.000000    3.000000   NaN   29.699118\n",
       "75%      668.500000    1.000000    3.000000   NaN   35.000000\n",
       "max      891.000000    1.000000    3.000000   NaN   80.000000"
      ]
     },
     "execution_count": 7,
     "metadata": {},
     "output_type": "execute_result"
    }
   ],
   "source": [
    "df.describe(include='all')"
   ]
  },
  {
   "cell_type": "markdown",
   "metadata": {
    "collapsed": true
   },
   "source": [
    "### The Pclass group\n",
    "I would like to know more of how the survival rate depends from different independent variables. Am going to visualize the data using bar plots. \n",
    "\n",
    "### Which part of classes are more likely to survived?"
   ]
  },
  {
   "cell_type": "code",
   "execution_count": 8,
   "metadata": {
    "collapsed": false
   },
   "outputs": [
    {
     "name": "stdout",
     "output_type": "stream",
     "text": [
      "Populating the interactive namespace from numpy and matplotlib\n"
     ]
    },
    {
     "data": {
      "text/plain": [
       "<matplotlib.text.Text at 0xbed4358>"
      ]
     },
     "execution_count": 8,
     "metadata": {},
     "output_type": "execute_result"
    },
    {
     "data": {
      "image/png": "[encoded data removed]",
      "text/plain": [
       "<matplotlib.figure.Figure at 0xbdfb128>"
      ]
     },
     "metadata": {},
     "output_type": "display_data"
    }
   ],
   "source": [
    "%pylab inline\n",
    "import seaborn as sns\n",
    "sns.factorplot('Pclass','Survived',hue_order='Age',data=df, kind='bar')\n",
    "plt.title ('survived the Pclass')\n",
    "\n"
   ]
  },
  {
   "cell_type": "markdown",
   "metadata": {},
   "source": [
    "### The Gender Group \n",
    "Now, am gone continue to know how the survival rate depends from different independent variables. Am going to visualize the data using bar plots. \n",
    "### Which genders survived with a higher count, Male or Female?\n"
   ]
  },
  {
   "cell_type": "code",
   "execution_count": 9,
   "metadata": {
    "collapsed": false
   },
   "outputs": [
    {
     "name": "stdout",
     "output_type": "stream",
     "text": [
      "Populating the interactive namespace from numpy and matplotlib\n"
     ]
    },
    {
     "data": {
      "text/plain": [
       "<matplotlib.text.Text at 0xc204be0>"
      ]
     },
     "execution_count": 9,
     "metadata": {},
     "output_type": "execute_result"
    },
    {
     "data": {
      "image/png": "[encoded data removed]",
      "text/plain": [
       "<matplotlib.figure.Figure at 0xbdfb0b8>"
      ]
     },
     "metadata": {},
     "output_type": "display_data"
    }
   ],
   "source": [
    "%pylab inline\n",
    "import seaborn as sns\n",
    "sns.factorplot(\"Sex\",'Survived',hue_order=\"Sex\",data=df,kind='bar')\n",
    "plt.title ('survived the sex')"
   ]
  },
  {
   "cell_type": "markdown",
   "metadata": {},
   "source": [
    "When am looking the above plots, it seems to me that females had more chances to survive than males, as well as the passengers of the first class had more chances than the passengers of the second class, and they had more chances than passengers of third class. So, the best place to survive is in the first class and be female."
   ]
  },
  {
   "cell_type": "markdown",
   "metadata": {},
   "source": [
    "### Age Group\n",
    "Now, let's look at the distribution of ages within the groups we defined above. The age distribution of the passengers are shown below: \n",
    "### Which ages group survived the most ?"
   ]
  },
  {
   "cell_type": "code",
   "execution_count": 10,
   "metadata": {
    "collapsed": false
   },
   "outputs": [
    {
     "data": {
      "image/png": "[encoded data removed]",
      "text/plain": [
       "<matplotlib.figure.Figure at 0xc35b208>"
      ]
     },
     "metadata": {},
     "output_type": "display_data"
    }
   ],
   "source": [
    "import seaborn as sns\n",
    "age_bins = np.arange(0,100,4)\n",
    "sns.distplot(df.loc[(df['Survived']==0) & (~df['Age'].isnull()),'Age'], bins=age_bins,color='k')\n",
    "sns.distplot(df.loc[(df['Survived']==1) & (~df['Age'].isnull()),'Age'], bins=age_bins,color='r')\n",
    "#sns.distplot(df.loc[df['Survived']==0) & (~df['Age'].isnull()),'Age'], bins=age_bins)\n",
    "#sns.distplot(df.loc[df['Survived']==1) & (~df['Age'].isnull()), 'Age'], bins=age_bins)\n",
    "plt.title ('age distribution among survival classes')\n",
    "plt.ylabel ('frequency')\n",
    "plt.legend(['did not survive', 'survived']);"
   ]
  },
  {
   "cell_type": "markdown",
   "metadata": {},
   "source": [
    "### Conclusion\n",
    "        \n",
    "In this project, the Titanic passenger data was analyzed to look at the factors related to the passenger's survivals. The two variables are considered in this project namely: gender and class. Most male survivors are children in the first class while for female, almost all age group in the first and second class have high survivor percentage. For both gender groups, a lot of casualties came from the third class. Regarding, the gender group anlysis, female have more survivor rate than male.\n",
    "### Limitation of the study\n",
    "It's important to identify and acknowledge the limitation of the study.\n",
    "1) Correlation doesn't imply causation. My conclusions are based just on the provided data set. To get the real causation, I should conduct the controlled experiment which is most probably not possible.\n",
    "2) Using sample instead of the population. It's known, that there were 1317 passengers and 885 crew members on the board of Titanik. Our data set represent just 891 persons. There is no clear mention of the crew members in the data set - so either they are not in the data set or they are hidden among the passengers of the 1, 2 and 3 classes. If the crew memebers are represented in our data set, the overal statistic might be distorted.\n",
    "3) There are the variables that I don't analyse (Name, SibSp, Parch, cabin, Fare, and Embarked). These variables have bias (based on the description of the data; f.ex.: With respect to the family relation variables (i.e. sibsp and parch) some relations were ignored.) or significant amount of data is missed (like for Cabin). To avoid adding noice to the analysis, I've decided to exclude them from the analysis.\n",
    "4) The dataset is filled with missing values of the age. The missing age values are imputed with the mean and here is the comparison between default (dropped missing values) and imputed age values."
   ]
  },
  {
   "cell_type": "code",
   "execution_count": null,
   "metadata": {
    "collapsed": true
   },
   "outputs": [],
   "source": []
  },
  {
   "cell_type": "markdown",
   "metadata": {},
   "source": [
    "### References\n",
    "1) Encyclopedia Titanica http://www.encyclopedia-titanica.org/titanic-research-articles/\n",
    "2) Statistical Consultants Ltd http://www.statisticalconsultants.co.nz/blog/titanic-survival-data.html\n",
    "3) Stack Overflow https://stackoverflow.com\n"
   ]
  }
 ],
 "metadata": {
  "kernelspec": {
   "display_name": "Python 2",
   "language": "python",
   "name": "python2"
  },
  "language_info": {
   "codemirror_mode": {
    "name": "ipython",
    "version": 2
   },
   "file_extension": ".py",
   "mimetype": "text/x-python",
   "name": "python",
   "nbconvert_exporter": "python",
   "pygments_lexer": "ipython2",
   "version": "2.7.13"
  }
 },
 "nbformat": 4,
 "nbformat_minor": 2
}
